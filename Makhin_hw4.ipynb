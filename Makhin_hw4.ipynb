{
 "cells": [
  {
   "cell_type": "markdown",
   "metadata": {},
   "source": [
    "# Алгоритмы интеллектуальной обработки больших объемов данных\n",
    "## Домашнее задание №4 - Алгоритмы кластеризации\n"
   ]
  },
  {
   "cell_type": "markdown",
   "metadata": {},
   "source": [
    "###### <hr\\>\n",
    "**Общая информация**\n",
    "\n",
    "**Срок сдачи:** 6 мая 2019, 06:00 <br\\>\n",
    "**Штраф за опоздание:** -2 балла после 06:00 6 мая, -4 балла после 06:00 13 мая, -6 баллов после 06:00 20 мая -8 баллов  после 06:00 27 мая\n",
    "\n",
    "\n",
    "Используйте данный Ipython Notebook при оформлении домашнего задания.\n",
    "<hr\\>"
   ]
  },
  {
   "cell_type": "markdown",
   "metadata": {},
   "source": [
    "**Из чего состоит задание:**\n",
    "\n",
    "###### Теоретические вопросы (2 балла)\n",
    "\n",
    "###### Реализация алгоритма кластеризации (5 баллов)\n",
    "\n",
    "###### Боевое применение (3 балла)\n",
    "\n",
    "\n"
   ]
  },
  {
   "cell_type": "markdown",
   "metadata": {},
   "source": [
    "**Штрафные баллы:**\n",
    "\n",
    "1. Невыполнение PEP8 -1 балл\n",
    "2. Отсутствие фамилии в имени скрипта (скрипт должен называться по аналогии со stroykova_hw4.ipynb) -1 балл\n",
    "3. Все строчки должны быть выполнены. Нужно, чтобы output команды можно было увидеть уже в git'е. В противном случае -1 балл\n",
    "4. При оформлении ДЗ нужно пользоваться данным файлом в качестве шаблона. Не нужно удалять и видоизменять написанный код и текст. В противном случае -1 балл"
   ]
  },
  {
   "cell_type": "code",
   "execution_count": 24,
   "metadata": {},
   "outputs": [
    {
     "name": "stdout",
     "output_type": "stream",
     "text": [
      "Populating the interactive namespace from numpy and matplotlib\n"
     ]
    }
   ],
   "source": [
    "import time\n",
    "import pandas as pd\n",
    "import pylab as pl\n",
    "import numpy as np\n",
    "import scipy.spatial as ss\n",
    "import sklearn.cluster as sc\n",
    "import sklearn.manifold as sm\n",
    "import sklearn.datasets as ds\n",
    "import sklearn.metrics as smt\n",
    "from sklearn.mixture import GaussianMixture\n",
    "from sklearn.cluster import AgglomerativeClustering\n",
    "\n",
    "import matplotlib.pyplot as plt\n",
    "\n",
    "%matplotlib inline\n",
    "\n",
    "plt.style.use('ggplot')\n",
    "plt.rcParams['figure.figsize'] = (12,5)\n",
    "\n",
    "# Plotting config\n",
    "%pylab inline"
   ]
  },
  {
   "cell_type": "markdown",
   "metadata": {},
   "source": [
    "# Теоретическое введение\n"
   ]
  },
  {
   "cell_type": "markdown",
   "metadata": {},
   "source": [
    "Основная задача кластерного анализа — разбиение исходного набора объектов на группы (кластеры) таким образом, чтобы объекты в группе были похожи друг на друга, а объекты из разных групп - отличались. \n",
    "\n",
    "В этой работе мы будем реализовывать агломеративную кластеризацию. "
   ]
  },
  {
   "cell_type": "markdown",
   "metadata": {
    "collapsed": true
   },
   "source": [
    "## Агломеративная кластеризация"
   ]
  },
  {
   "cell_type": "markdown",
   "metadata": {},
   "source": [
    "Иерархические алгоритмы кластеризации строят на выборке систему вложенных разбиений.  Наиболее часто испоьзуемые иерархические алгоритмы - агломеративные алгоритмы, которые строят ирархию по восходящей, то есть от момента, когда все элементы являются отдельными кластерами, до того момента, пока вся выборка не станет одним кластером."
   ]
  },
  {
   "cell_type": "markdown",
   "metadata": {},
   "source": [
    "Сам алгоритм описать можно примерно так:\n",
    "\n",
    "* начинаем с ситуации, когда каждый объект - отдельный кластер\n",
    "* на каждом шаге совмещаем два наиболее близких кластера\n",
    "* останавливаемся, когда получаем требуемое количество или единственный кластер"
   ]
  },
  {
   "cell_type": "markdown",
   "metadata": {},
   "source": [
    "\n",
    "В данной работе Вам предлагается реализовать три варианта расстояний между кластерами, по которым Вы определяете пару для слияния: \n",
    "* Single linkage\n",
    "$$ d_{min}(C_i, C_j) = \\min_{\\mathbf{x} \\in C_i, \\mathbf{x}' \\in C_j} \\|\\mathbf{x} -\\mathbf{x}' \\| $$\n",
    "\n",
    "* Complete linkage\n",
    "$$ d_{max}(C_i, C_j) = \\max_{\\mathbf{x} \\in C_i, \\mathbf{x}' \\in C_j} \\|\\mathbf{x} -\\mathbf{x}' \\| $$\n",
    "\n",
    "* Average linkage\n",
    "$$ d_{avg}(C_i, C_j) = \\frac{1}{n_i n_j}\\sum_{\\mathbf{x} \\in C_i}\\sum_{\\mathbf{x}' \\in C_j} \\|\\mathbf{x} -\\mathbf{x}' \\| $$\n",
    "\n",
    "Как считать расстояние $\\|\\mathbf{x} -\\mathbf{x}' \\|$ между объектами Вы должны выбрать сами.  Вы должны четко понимать, что выбор расстояния между объектами - самое важное в такого рода алгоритмах. Передавайте название расстояния в конструктор класса, а потом, в зависимости от названия, применяете ту или иную функцию для подсчета расстояния. \n",
    "\n"
   ]
  },
  {
   "cell_type": "markdown",
   "metadata": {},
   "source": [
    "Для того, чтобы на втором этапе нам не пересчитывать заново расстояния между всеми парами кластеров, можно использовать Формулы Ланса-Вильямса, которые позволяют посчитать расстояние между кластерами после объединения, используя только расстояния между кластерами до объедения.  Таким образом, достаточно будет посчитать расстояния только между всеми одноэлементными кластерами (первый этап), а затем пересчитывать расстояния при их объединении через \n",
    "формулы Ланса-Вильямса. \n",
    "\n",
    "Общая  формула выглядит так:\n",
    "$$ d(C_i \\cup C_j, C_k) = a_i \\cdot d(C_i, C_k) + a_j \\cdot d(C_j, C_k) + b \\cdot d(C_i, C_j) + c \\cdot |d(C_i, C_k) - d(C_j, C_k)|$$\n",
    "\n",
    "Можно показать, что все относительно разумные кластерные расстояния можно описать данной формулой. \n",
    "\n",
    "Для интересущих нас linkage:\n",
    "\n",
    "* single-linkage       $a_i = \\frac{1}{2}, a_j =  \\frac{1}{2}, b = 0, c =  - \\frac{1}{2} $\n",
    "\n",
    "* complete-linkage     $a_i = \\frac{1}{2}, a_j =  \\frac{1}{2}, b = 0, c =   \\frac{1}{2} $\n",
    "\n",
    "* average-linkage       $a_i = \\frac{|C_i|}{|C_i \\cup C_j|}, a_j =  \\frac{|C_j|}{|C_i \\cup C_j|}, b = 0, c = 0 $\n",
    "\n"
   ]
  },
  {
   "cell_type": "markdown",
   "metadata": {},
   "source": [
    "# Теоретические вопросы (2 балла)\n",
    "В этой части Вам будут предложены теоретичские вопросы и задачи по теме. Вы, конечно, можете списать их у своего товарища или найти решение в интернете, но учтите, что они обязательно войдут в теоретический коллоквиум. Лучше разобраться в теме сейчас и успешно ответить на коллоквиуме, чем списать, не разобравшись в материале, и быть терзаемым совестью. \n",
    "\n",
    "\n",
    "Формулы надо оформлять в формате **LaTeX**."
   ]
  },
  {
   "cell_type": "markdown",
   "metadata": {},
   "source": [
    "Задача 1. Сходимость kmeans.\n",
    "\n",
    "Метод kmeans является частным случаем EM алгоритма и наиболее простым в обосновании сходимости. Докажите, что kmeans всегда сходится, и итераций не будет превышать $k^N$, где $k$ $-$ число кластеров, $N$ $-$ число объектов\n",
    "\n",
    "Подсказка: Вам стоит рассмотреть функционал, который минимизирует алгоритм, и подумать, как он изменяется на E шаге и на M шаге.\n",
    "\n"
   ]
  },
  {
   "cell_type": "markdown",
   "metadata": {},
   "source": [
    "Всего существует $k^N$ способов разбить N элементов на k кластеров, на каждой новой итерации алгоритма мы создаем новое разбиение на классы, которое основано только на старом разбиении. Очевидно, что либо разбиение сохранится, и тогда оно уже не изменится никогда, либо же изменится, и значение функционала уменьшится. \n",
    "У нас невозможно, чтоб одно и то же разбиение присутствовало дважды не подряд (т.е. был цикл длины >1), так как иначе одному и тому же разбиению соответствует различный функционал. Следовательно, сходится на конечное число операций, меньших $k^N$"
   ]
  },
  {
   "cell_type": "markdown",
   "metadata": {},
   "source": [
    "Задача 2. Сходимость EM.\n",
    "\n",
    "Разобравшись со сходимостью kmeans, можно догадаться и до ответа про EM алгоритм.\n",
    "\n",
    "При каком условии на правдоподобие системы EM алгоритм будет  сходиться?\n",
    "\n"
   ]
  },
  {
   "cell_type": "markdown",
   "metadata": {},
   "source": [
    "Правдоподобие ограничено"
   ]
  },
  {
   "cell_type": "markdown",
   "metadata": {},
   "source": [
    "Задача 3. Формулы Ланса-Вильямса.\n",
    "\n",
    "Формулы Ланса-Вильямса крайне удобны для быстрого пересчта расстояний в агломеративной кластеризации. Давайте докажем  формулы для single и complete linkage. \n",
    "\n",
    "Докажите, что:\n",
    "\n",
    "$d_{\\min}(U \\cup V, S) = \\frac{1}{2} d_{\\min}(U, S) + \\frac{1}{2} d_{\\min}(V, S)  - \\frac{1}{2} | d_{\\min}(U, S) - d_{\\min}(V, S) |  $\n",
    "\n",
    "\n",
    "$d_{\\max}(U \\cup V, S) = \\frac{1}{2} d_{\\max}(U, S) + \\frac{1}{2} d_{\\max}(V, S)  + \\frac{1}{2} | d_{\\max}(U, S) - d_{\\max}(V, S) |  $\n",
    "\n",
    "\n"
   ]
  },
  {
   "cell_type": "markdown",
   "metadata": {},
   "source": [
    "Докажем для минимума.\n",
    "Пусть $d_{\\min}(U, S) >= d_{\\min}(V, S)$\n",
    "\n",
    "Тогда $| d_{\\min}(U, S) - d_{\\min}(V, S) | = d_{\\min}(U, S) - d_{\\min}(V, S) $\n",
    "\n",
    "Следовательно, $\\frac{1}{2} d_{\\min}(U, S) + \\frac{1}{2} d_{\\min}(V, S)  - \\frac{1}{2} | d_{\\min}(U, S) - d_{\\min}(V, S) |  = \\frac{1}{2} d_{\\min}(U, S) + \\frac{1}{2} d_{\\min}(V, S)  - \\frac{1}{2} (d_{\\min}(U, S) - d_{\\min}(V, S)) = d_{\\min}(V, S)$\n",
    "\n",
    "\n",
    "\n",
    "Пусть $d_{\\min}(U, S) < d_{\\min}(V, S)$\n",
    "\n",
    "Тогда $| d_{\\min}(U, S) - d_{\\min}(V, S) | = d_{\\min}(V, S) - d_{\\min}(U, S) $\n",
    "\n",
    "Следовательно, $\\frac{1}{2} d_{\\min}(U, S) + \\frac{1}{2} d_{\\min}(V, S)  - \\frac{1}{2} | d_{\\min}(U, S) - d_{\\min}(V, S) |  = \\frac{1}{2} d_{\\min}(U, S) + \\frac{1}{2} d_{\\min}(V, S)  - \\frac{1}{2} (d_{\\min}(V, S) - d_{\\min}(U, S)) = d_{\\min}(U, S)$\n",
    "\n",
    "Для максимума аналогично."
   ]
  },
  {
   "cell_type": "markdown",
   "metadata": {},
   "source": [
    "# Реализация алгоритма кластеризации  (5 баллов)"
   ]
  },
  {
   "cell_type": "markdown",
   "metadata": {},
   "source": [
    "Алгоритм кластеризации должен удовлетворять следующему интерфейсу. Конструктор принимает набор параметров, необходимых для работы алгоритма кластеризации. Метод `fit` подсчитывает параметры модели и возвращает `self`. Метод `predict` возвращает вектор с индексами кластеров для поданных в него объектов `x`. "
   ]
  },
  {
   "cell_type": "code",
   "execution_count": 371,
   "metadata": {},
   "outputs": [],
   "source": [
    "from sklearn.base import BaseEstimator, ClusterMixin\n",
    "import copy\n",
    "\n",
    "class Clustering(BaseEstimator, ClusterMixin):\n",
    "    \"\"\"\n",
    "    Implement clustering algorithm according \n",
    "    \"\"\"\n",
    "    \n",
    "    def __init__(self, metric='euclidean', linkage='single', k=2):\n",
    "        \"\"\"\n",
    "        metric - string with name of metric, for example, euclidean\n",
    "        Please add necessary algoritm parameters to class constructor.\n",
    "        \"\"\"\n",
    "        self.answer = []\n",
    "        self.k = k\n",
    "        \n",
    "        if metric == 'euclidean':\n",
    "            self.get_dist = self.distance_euclidean\n",
    "        elif metric == 'for_project':\n",
    "            self.get_dist = self.distance_project\n",
    "        \n",
    "        \n",
    "        \n",
    "        if linkage == 'single':\n",
    "            #self.linkage = self.linkage_single\n",
    "            self.create_coeff = self.create_single\n",
    "        elif linkage == 'complete':\n",
    "            #self.linkage = self.linkage_complete\n",
    "            self.create_coeff = self.create_complete\n",
    "        else:\n",
    "            #self.linkage = self.linkage_average\n",
    "            self.create_coeff = self.create_average\n",
    "        return\n",
    "        \n",
    "    def create_average(self, ci, cj):\n",
    "        return math.fabs(ci/(ci+cj)), math.fabs(cj/(ci+cj)), 0\n",
    "    \n",
    "    def create_complete(self, ci, cj):\n",
    "        return 0.5, 0.5, 0.5\n",
    "    \n",
    "    def create_single(self, ci, cj):\n",
    "        return 0.5, 0.5, -0.5\n",
    "    \n",
    "    \n",
    "    def calculate_dist(self, x):\n",
    "        dist = np.zeros((self.x_len, self.x_len))\n",
    "        for i in range(self.x_len):\n",
    "            for j in range(i):\n",
    "                dist[i][j] = self.get_dist(x[i], x[j])\n",
    "                dist[j][i] = dist[i][j]        \n",
    "        \n",
    "        return dist\n",
    "    \n",
    "    def distance_project2(self, x, y):\n",
    "        a = 0\n",
    "        for i in x:\n",
    "            for j in y:\n",
    "                if i == j:\n",
    "                    a += 1\n",
    "        a = a/(min(len(x), len(y)))\n",
    "        if (a > 1):\n",
    "            a = 1\n",
    "        return 1 - a \n",
    "    \n",
    "    def distance_project(self, x, y):\n",
    "        a = 0\n",
    "        for i in x:\n",
    "            bol = 0\n",
    "            for j in y:\n",
    "                if i == j:\n",
    "                    bol = 1\n",
    "            if bol == 1:\n",
    "                a += 1\n",
    "        return (len(x)+len(y) - 2*a)/(len(x)+len(y))\n",
    "    \n",
    "    \n",
    "    def distance_euclidean(self, x, y):\n",
    "        return np.linalg.norm(x-y)\n",
    "    \n",
    "    \n",
    "    def recalculate(self, x, old_1, old_2, ci, cj):\n",
    "        ai, aj, c = self.create_coeff(ci, cj)\n",
    "        return ai*self.dist[old_1][x] + aj*self.dist[old_2][x] + c*math.fabs(self.dist[old_1][x] - self.dist[old_2][x])\n",
    "    \n",
    "    \n",
    "    \n",
    "    def fit_predict(self, x):\n",
    "        \"\"\"\n",
    "        Use data matrix x to compute model parameters and predict clusters\n",
    "        \"\"\"\n",
    "        self.x_len = len(x)\n",
    "        self.dist = self.calculate_dist(x)\n",
    "        \n",
    "        cluster = [i for i in range(self.x_len)]\n",
    "        column = [i for i in range(self.x_len)]\n",
    "        \n",
    "        for r in range(self.x_len - self.k):\n",
    "            column_1 = column[0]\n",
    "            column_2 = column[1]\n",
    "            min_dist = self.dist[column_1][column_2]\n",
    "            \n",
    "            for i in column:\n",
    "                for j in column:\n",
    "                    if (i < j):\n",
    "                        if self.dist[i][j] < min_dist:\n",
    "                            min_dist = self.dist[i][j]\n",
    "                            column_1 = i\n",
    "                            column_2 = j\n",
    "            \n",
    "            count_1 = cluster.count(column_1)\n",
    "            count_2 = cluster.count(column_2)\n",
    "            \n",
    "            for i in range(len(cluster)):\n",
    "                if cluster[i] == column_2:\n",
    "                    cluster[i] = column_1\n",
    "            \n",
    "            column.remove(column_2)\n",
    "            \n",
    "            for i in column:\n",
    "                if (i != column_1):\n",
    "                    tmp = self.recalculate(i, column_1, column_2, count_1, count_2)\n",
    "                    self.dist[i][column_1] = tmp\n",
    "                    self.dist[column_1][i] = tmp\n",
    "            \n",
    "            self.answer.append([column_1, column_2, min_dist, count_1+count_2])\n",
    "        \n",
    "        cluster_answer = copy.deepcopy(cluster)\n",
    "        for i in range(self.x_len - self.k, self.x_len-1):\n",
    "            column_1 = column[0]\n",
    "            column_2 = column[1]\n",
    "            min_dist = self.dist[column_1][column_2]\n",
    "            \n",
    "            for i in column:\n",
    "                for j in column:\n",
    "                    if (i < j):\n",
    "                        if self.dist[i][j] < min_dist:\n",
    "                            min_dist = self.dist[i][j]\n",
    "                            column_1 = i\n",
    "                            column_2 = j\n",
    "            \n",
    "            count_1 = cluster.count(column_1)\n",
    "            count_2 = cluster.count(column_2)\n",
    "            \n",
    "            for i in range(len(cluster)):\n",
    "                if cluster[i] == column_2:\n",
    "                    cluster[i] = column_1\n",
    "            \n",
    "            column.remove(column_2)\n",
    "            \n",
    "            for i in column:\n",
    "                if (i != column_1):\n",
    "                    tmp = self.recalculate(i, column_1, column_2, count_1, count_2)\n",
    "                    self.dist[i][column_1] = tmp\n",
    "                    self.dist[column_1][i] = tmp\n",
    "            \n",
    "            self.answer.append([column_1, column_2, min_dist, count_1+count_2])\n",
    "        \n",
    "        return cluster_answer\n",
    "\n",
    "            \n",
    "    \n",
    "    def change(self):\n",
    "        now = self.x_len\n",
    "        custom = [i for i in range(self.x_len)]\n",
    "        for i in range(self.x_len-1):\n",
    "            a = self.answer[i][0]\n",
    "            b = self.answer[i][1]\n",
    "            self.answer[i][0] = min(custom[a],custom[b])\n",
    "            self.answer[i][1] = max(custom[b], custom[a])\n",
    "            custom[a] = now\n",
    "            custom[b] = now\n",
    "            now += 1\n",
    "        return\n",
    "        \n",
    "    \n",
    "    def plot_dendrogram(self):\n",
    "        \"\"\"\n",
    "        Try to visualize our data\n",
    "        \"\"\"\n",
    "        self.change()\n",
    "        dendrogram(self.answer, color_threshold=1)\n",
    "        return "
   ]
  },
  {
   "cell_type": "markdown",
   "metadata": {},
   "source": [
    "Сначала проверим реализованный алгоритм кластеризации на классическом наборе данных [Iris](http://www.wikiwand.com/en/Iris_flower_data_set). Загрузим данные (они включены в библиотеку sklearn) и посмотрим на то, как они выглядят в двух проекциях (для простоты используем 2 класса из 3)."
   ]
  },
  {
   "cell_type": "code",
   "execution_count": 26,
   "metadata": {},
   "outputs": [
    {
     "data": {
      "image/png": "[encoded data removed]",
      "text/plain": [
       "<Figure size 720x360 with 2 Axes>"
      ]
     },
     "metadata": {
      "needs_background": "light"
     },
     "output_type": "display_data"
    }
   ],
   "source": [
    "iris = ds.load_iris()\n",
    "x_iris = iris.data[:100]\n",
    "y_iris = iris.target[:100]\n",
    "\n",
    "pl.figure(figsize=(10, 5))\n",
    "\n",
    "pl.subplot(1, 2, 1)\n",
    "pl.scatter(x_iris[:, 0], x_iris[:, 1], c=y_iris, cmap=pl.cm.PuOr, lw=0, s=30)\n",
    "plt.xlabel('Sepal length')\n",
    "plt.ylabel('Sepal width')\n",
    "\n",
    "pl.subplot(1, 2, 2)\n",
    "pl.scatter(x_iris[:, 2], x_iris[:, 3], c=y_iris, cmap=pl.cm.PuOr, lw=0, s=30)\n",
    "plt.xlabel('Petal length')\n",
    "plt.ylabel('Petal width')\n",
    "pl.show()"
   ]
  },
  {
   "cell_type": "markdown",
   "metadata": {},
   "source": [
    "Видно, что классы разделяются, поэтому можно надеяться, что наш алгоритм \"найдет\" кластеры, соответствующие исходным классам. Результат работы реализованного алгоритма кластеризации предлагается сравнить с эталонной кластеризацией. Для этого предлагается изучить метрику ([adjusted rand score](http://scikit-learn.org/stable/modules/generated/sklearn.metrics.adjusted_rand_score.html)). В случае если значение этой метрики отличается от 1, предлагается поработать над улучшением реализации своего алгоритма."
   ]
  },
  {
   "cell_type": "code",
   "execution_count": 247,
   "metadata": {},
   "outputs": [
    {
     "name": "stdout",
     "output_type": "stream",
     "text": [
      " Sklearn AGGL score 1.0. Sklearn AGGL time 0.004000425338745117\n"
     ]
    }
   ],
   "source": [
    "# Давайте проверим, как справляются sklearn реализации\n",
    "sklearn_aggl = AgglomerativeClustering(n_clusters=2)\n",
    "aggl_t0 = time.time()\n",
    "aggl_pred = sklearn_aggl.fit_predict(x_iris)\n",
    "aggl_diff = time.time() - aggl_t0\n",
    "aggl_score = smt.adjusted_rand_score(y_iris, aggl_pred)\n",
    "print (\" Sklearn AGGL score {}. Sklearn AGGL time {}\".format(aggl_score, aggl_diff))"
   ]
  },
  {
   "cell_type": "code",
   "execution_count": 248,
   "metadata": {},
   "outputs": [
    {
     "name": "stdout",
     "output_type": "stream",
     "text": [
      "Our AGGL score 1.0. Our AGGL time 0.7410383224487305\n"
     ]
    }
   ],
   "source": [
    "# Здесь предскажем кластера, посчитаем метрику кластеризации и время работы, сравним со склерном\n",
    "сustum_aggl = Clustering(metric='euclidean', k=2)\n",
    "aggl_t0 = time.time()\n",
    "aggl_pred = сustum_aggl.fit_predict(x_iris)\n",
    "aggl_diff = time.time() - aggl_t0\n",
    "aggl_score = smt.adjusted_rand_score(y_iris, aggl_pred)\n",
    "print (\"Our AGGL score {}. Our AGGL time {}\".format(aggl_score, aggl_diff))"
   ]
  },
  {
   "cell_type": "code",
   "execution_count": 246,
   "metadata": {
    "scrolled": true
   },
   "outputs": [
    {
     "data": {
      "image/png": "[encoded data removed]",
      "text/plain": [
       "<Figure size 432x288 with 1 Axes>"
      ]
     },
     "metadata": {
      "needs_background": "light"
     },
     "output_type": "display_data"
    }
   ],
   "source": [
    "сustum_aggl.plot_dendrogram()"
   ]
  },
  {
   "cell_type": "markdown",
   "metadata": {
    "collapsed": true
   },
   "source": [
    "# Боевое применение (3  балла)\n"
   ]
  },
  {
   "cell_type": "markdown",
   "metadata": {
    "collapsed": true
   },
   "source": [
    "Алгоритмы кластеризации прекрасны тем, что они позволяют быстро понять, как устроены наши данные. Давайте применим Ваш алгоритм для нашего конкурса!"
   ]
  },
  {
   "cell_type": "markdown",
   "metadata": {},
   "source": [
    "Будем рассматривать каждую группу независимо от других групп. На каждой группе применим наш алгоритм и отрисуем денденограмму. По результатам кластерного анализа, Вам нужно ответить на следующие вопросы:\n",
    "\n",
    "1) Можно ли по дендонаграмме (или по другим результатам кластеризации) сказать, где в группе аномалии? Каким образом?\n",
    "\n",
    "2) Какое расстояние лучше использовать между заголовками страниц для кластеризации? Как еще учесть другую информацию о странице в расстоянии?\n",
    "\n",
    "2) Какое качество f1_score Вы смогли получить на обучающем множестве методами кластеризации? (валидацию можете не делать, если таргет не используете)\n",
    "\n",
    "4) Как можно результат кластеризации затем использовать для  финальной модели обучения с учителем?"
   ]
  },
  {
   "cell_type": "markdown",
   "metadata": {},
   "source": [
    "Подсказка: самое важное - выбрать расстояние между заголовками. Самый простой вариант:  процент различных слов в двух заголовках. В семинаре мы рассматривали более сложный вариант, но Вы сможете придумать лучше. "
   ]
  },
  {
   "cell_type": "code",
   "execution_count": 251,
   "metadata": {},
   "outputs": [
    {
     "name": "stdout",
     "output_type": "stream",
     "text": [
      "28026\n"
     ]
    }
   ],
   "source": [
    "doc_to_title = {}\n",
    "import io\n",
    "with io.open('docs_titles.tsv', encoding='utf-8') as f:\n",
    "    for num_line, line in enumerate(f):\n",
    "        if num_line == 0:\n",
    "            continue\n",
    "        data = line.strip().split('\\t', 1)\n",
    "        doc_id = int(data[0])\n",
    "        if len(data) == 1:\n",
    "            title = ''\n",
    "        else:\n",
    "            title = data[1]\n",
    "        doc_to_title[doc_id] = title\n",
    "print(len(doc_to_title))"
   ]
  },
  {
   "cell_type": "code",
   "execution_count": 252,
   "metadata": {},
   "outputs": [],
   "source": [
    "train_data = pd.read_csv('train_groups.csv')\n",
    "traingroups_titledata = {}\n",
    "for i in range(len(train_data)):\n",
    "    new_doc = train_data.iloc[i]\n",
    "    doc_group = new_doc['group_id']\n",
    "    doc_id = new_doc['doc_id']\n",
    "    target = new_doc['target']\n",
    "    title = doc_to_title[doc_id]\n",
    "    if doc_group not in traingroups_titledata:\n",
    "        traingroups_titledata[doc_group] = []\n",
    "    traingroups_titledata[doc_group].append((doc_id, title, target))"
   ]
  },
  {
   "cell_type": "code",
   "execution_count": 351,
   "metadata": {
    "scrolled": true
   },
   "outputs": [
    {
     "data": {
      "text/plain": [
       "[(12802, 'MyWarp', 1),\n",
       " (13058, 'Ответы@Mail.Ru: minecraft..', 1),\n",
       " (13630, 'Как создать warp в Minecraft?', 1),\n",
       " (11476, 'Варпы для всех » Excalibur-Craft 1.7.10', 0),\n",
       " (11547,\n",
       "  'MyWarp - создаём варпы (спавны) на сервере - Плагины для сервера  - Все для minecraft, моды, текстуры, готовые сервера - World-Minecraft',\n",
       "  1),\n",
       " (14339, \"Warp'ы на сервере minecraft-city! - YouTube\", 0),\n",
       " (13655, 'Крафт — Minecraft Wiki', 0),\n",
       " (13754, 'как создать warp в игре minecraft (Майнкрафт)', 1),\n",
       " (12121,\n",
       "  'Как поставить точку варпа (Страница 1) — Архив — Форум Minecraft2000.ru',\n",
       "  0),\n",
       " (11423, 'Как установить точку варпа с плагином MyWarp - YouTube', 1),\n",
       " (14709, '» Как ставить варп в minecraft', 1),\n",
       " (13787, 'Крафт — Minecraft Wiki', 0),\n",
       " (12450, 'Игровое сообщество MegaSeven', 0),\n",
       " (14649,\n",
       "  'Ответы@Mail.Ru: как сделать варп на сервере майнкрафт как сделать варп на сервере майнкрафт',\n",
       "  1),\n",
       " (11857,\n",
       "  'Ответы@Mail.Ru: Что такое варп в майнкрафте? ( Я премиум игрок на лаунчере и имею право делать варп зоны, но что это такое я не знаю )',\n",
       "  0),\n",
       " (11939, 'Как поставить точку варпа в minecraft', 0),\n",
       " (13861, 'Плагин Warp', 1),\n",
       " (12467, 'Как создать варп?', 1),\n",
       " (14031, 'Как создать варп ?', 1),\n",
       " (14621, 'Как создать варп в Minecraft для быстрой телепортации', 1),\n",
       " (14574,\n",
       "  'Ответы@Mail.Ru: как в майнкрафте онлайн на сервере енсермпликс создать точку варпа?',\n",
       "  0),\n",
       " (11216, 'MyWarp - создаём варпы (спавны) на сервере', 1),\n",
       " (12005,\n",
       "  'Как установить мод на майнкрафт 1.7.2 - Инструкции  - Онлайн - Майнкрафт',\n",
       "  0),\n",
       " (13006, 'Ответы@Mail.Ru: как удалить варп в майнкрафт???', 0),\n",
       " (11452,\n",
       "  'как поставить варп? (Страница 1) — Архив — Форум Minecraft2000.ru',\n",
       "  0),\n",
       " (14716, 'Сервер майнкрафт \"Оригинальный\" | ВКонтакте', 0),\n",
       " (14658, 'как ставить варпы в minecraft 1.5.2? - QAlls.ru', 0),\n",
       " (12488,\n",
       "  'Как поставить варп minecraft — Minecraft отличная игра для всех!',\n",
       "  0),\n",
       " (14651, 'Плагин для создания точек телепортации в Minecraft MyWarp', 1),\n",
       " (12009, 'Как поставить варп в майнкрафте 1 5 2 - кладовая Minecraft', 0),\n",
       " (12210, 'Как создать warp (варп) в Minecraft [Essentials] - YouTube', 1)]"
      ]
     },
     "execution_count": 351,
     "metadata": {},
     "output_type": "execute_result"
    }
   ],
   "source": [
    "traingroups_titledata[13]"
   ]
  },
  {
   "cell_type": "markdown",
   "metadata": {},
   "source": [
    "Кластеризацию проводите в каждой группе отдельно, то есть изучайте, можно ли в группе  найти подкластер выбросов\n",
    "\n",
    "Документы можно представлять например словами из тайтла\n",
    "\n",
    "Главное подобрать хорошую функцию расстояния между документами\n",
    "\n",
    "Удачи! Все получится!"
   ]
  },
  {
   "cell_type": "markdown",
   "metadata": {},
   "source": [
    "Замечание: в кластеризации можно использовать все данные, то есть трейн + тест, чтобы находить больше закономерностей "
   ]
  },
  {
   "cell_type": "code",
   "execution_count": 375,
   "metadata": {},
   "outputs": [],
   "source": [
    "mass = []\n",
    "symbol = ['.', ',', '!', '?', ';', ':']\n",
    "for q, a, j in traingroups_titledata[13]:\n",
    "    text = [x for x in a.lower().split()]\n",
    "    for i in range(len(text)):\n",
    "        if text[i][-1:] in symbol:\n",
    "            text[i] = text[i][:-1]\n",
    "    text = [stemmer.stemWord(y) for y in set(text) if len(y) >= 3]\n",
    "    mass.append(text)"
   ]
  },
  {
   "cell_type": "code",
   "execution_count": 376,
   "metadata": {},
   "outputs": [],
   "source": [
    "сustum_aggl = Clustering(metric='for_project', k=2)\n",
    "aggl_t0 = time.time()\n",
    "aggl_pred = сustum_aggl.fit_predict(mass)\n",
    "aggl_diff = time.time() - aggl_t0"
   ]
  },
  {
   "cell_type": "code",
   "execution_count": 377,
   "metadata": {},
   "outputs": [
    {
     "data": {
      "image/png": "[encoded data removed]",
      "text/plain": [
       "<Figure size 432x288 with 1 Axes>"
      ]
     },
     "metadata": {
      "needs_background": "light"
     },
     "output_type": "display_data"
    }
   ],
   "source": [
    "сustum_aggl.plot_dendrogram()"
   ]
  },
  {
   "cell_type": "code",
   "execution_count": 382,
   "metadata": {},
   "outputs": [
    {
     "name": "stdout",
     "output_type": "stream",
     "text": [
      "0 1\n",
      "1 1\n",
      "2 1\n",
      "3 0\n",
      "4 1\n",
      "5 0\n",
      "6 0\n",
      "7 1\n",
      "8 0\n",
      "9 1\n",
      "10 1\n",
      "11 0\n",
      "12 0\n",
      "13 1\n",
      "14 0\n",
      "15 0\n",
      "16 1\n",
      "17 1\n",
      "18 1\n",
      "19 1\n",
      "20 0\n",
      "21 1\n",
      "22 0\n",
      "23 0\n",
      "24 0\n",
      "25 0\n",
      "26 0\n",
      "27 0\n",
      "28 1\n",
      "29 0\n",
      "30 1\n"
     ]
    }
   ],
   "source": [
    "for q, (i, j, k) in enumerate(traingroups_titledata[13]):\n",
    "    print(q, k)"
   ]
  },
  {
   "cell_type": "markdown",
   "metadata": {
    "collapsed": true
   },
   "source": [
    "Если получилось найти выбросы с помощью кластеризации, то не забывайте использовать его в финальном решении. Помните - использование различных подходов к решению задачи всегда улучшает финального качество."
   ]
  },
  {
   "cell_type": "markdown",
   "metadata": {},
   "source": [
    "Что-то не очень она разделяет их (("
   ]
  },
  {
   "cell_type": "markdown",
   "metadata": {},
   "source": [
    "# Контрольные вопросы\n",
    "Постарайтесь максимально развернуто и честно ответить на вопросы. Они охватывают тему алгоритмов кластеризации и скорее нужны преподавателям, чтобы понимать, что именно Вы усвоили плохо. Надеюсь, они подскажут, что именно в теме Вы не понимаете или наоборот порадают, что Вы все знаете ^_^"
   ]
  },
  {
   "cell_type": "markdown",
   "metadata": {},
   "source": [
    "* Опишите, пожалуйста, для каких прикладных задач Вы бы стали использовать методы кластеризации?"
   ]
  },
  {
   "cell_type": "markdown",
   "metadata": {},
   "source": [
    "Определение жанра / темы чего-либо, в рекомендательной системе."
   ]
  },
  {
   "cell_type": "markdown",
   "metadata": {},
   "source": [
    "* Какие преимущества и недостатки Вы видите у следуюших алгоритмов кластеризации: kmeans, dbscan, агломеративная кластеризация?"
   ]
  },
  {
   "cell_type": "markdown",
   "metadata": {},
   "source": [
    "k-means: Быстро считается, предсказание для новых объектах, но число кластеров - структурный параметр, выбросы все ломают\n",
    "\n",
    "dbscan: Находит выбросы, сам определяет число кластеров, можно предсказать для новых объектов, но нельзя дообучать и нужно выбирать самому параметры \n",
    "\n",
    "Агломеративная: Заданием только расстояния мы получаем все, на выходе любое число кластеров, но долго и нельзя дообучаться."
   ]
  },
  {
   "cell_type": "markdown",
   "metadata": {},
   "source": [
    "* На лекции было показано, что EM алгоритм находит оценку максимального правдоподобия в задаче со сккрытыми переменными. Из курса мат. статистики Вы можете знать, оценка максимального правдоподобия \"оптимальная\" во многих смыслах. В каких же случаях тогда не следует применять метод максимального правдоподобия?"
   ]
  },
  {
   "cell_type": "markdown",
   "metadata": {},
   "source": [
    "Правдоподобие может не быть ограниченным"
   ]
  },
  {
   "cell_type": "markdown",
   "metadata": {},
   "source": [
    "* Представьте, что у Вас есть набор текстовых документов, и Вы хотите разбить эти документы на тематики - новости, спорт, кулинария, кино и так далее. Размеченной выборки у Вас нет, только сами тексты документов. Какие алгоритмы и какие признаки Вы бы использовали для решения данной задачи?"
   ]
  },
  {
   "cell_type": "markdown",
   "metadata": {},
   "source": [
    "Кластеризацию"
   ]
  },
  {
   "cell_type": "markdown",
   "metadata": {},
   "source": [
    "* Теперь представьте, что небольшая часть Ваших текстов была размечена людьми, но большая часть так и осталась без таргета. Смогли ли бы Вы использовать эти данные для улучения качества кластеризации? (эта задача называется semi-supervised learning)"
   ]
  },
  {
   "cell_type": "markdown",
   "metadata": {},
   "source": [
    "Всем элементам кластера, куда попали размеченные элементы, приписать темтику размеченного элемента"
   ]
  },
  {
   "cell_type": "markdown",
   "metadata": {},
   "source": [
    "Здесь Вы можете оставить отзыв о этой домашней работе или о всем курсе.   "
   ]
  },
  {
   "cell_type": "markdown",
   "metadata": {},
   "source": [
    "*** ВАШ ОТЗЫВ ЗДЕСЬ***"
   ]
  },
  {
   "cell_type": "code",
   "execution_count": null,
   "metadata": {
    "collapsed": true
   },
   "outputs": [],
   "source": []
  },
  {
   "cell_type": "code",
   "execution_count": null,
   "metadata": {
    "collapsed": true
   },
   "outputs": [],
   "source": []
  }
 ],
 "metadata": {
  "anaconda-cloud": {},
  "kernelspec": {
   "display_name": "Python 3",
   "language": "python",
   "name": "python3"
  },
  "language_info": {
   "codemirror_mode": {
    "name": "ipython",
    "version": 3
   },
   "file_extension": ".py",
   "mimetype": "text/x-python",
   "name": "python",
   "nbconvert_exporter": "python",
   "pygments_lexer": "ipython3",
   "version": "3.7.1"
  }
 },
 "nbformat": 4,
 "nbformat_minor": 1
}
